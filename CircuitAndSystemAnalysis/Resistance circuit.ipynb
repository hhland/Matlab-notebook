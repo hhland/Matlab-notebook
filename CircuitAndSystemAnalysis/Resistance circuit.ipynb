{
 "cells": [
  {
   "cell_type": "markdown",
   "metadata": {},
   "source": [
    "#例 ６ －１ 网 孔方程 的 求解\n",
    "电路 如 图 ６ －１ 所示 ， 已 知 Ｒ１ ＝６Ω， Ｒ２ ＝４ Ω， Ｒ３ ＝３ Ω， ｖＳ１ ＝４２ Ｖ， ｖＳ２ ＝ －１０Ｖ，\n",
    "写 出 电路 的 网 孔方程， 并求电流 ｉ１ 和 ｉ２ 。"
   ]
  },
  {
   "cell_type": "code",
   "execution_count": 1,
   "metadata": {
    "collapsed": false
   },
   "outputs": [
    {
     "name": "stdout",
     "output_type": "stream",
     "text": [
      "a =\n",
      "\n",
      "     9    -3\n",
      "    -3     7\n",
      "\n",
      "\n",
      "b =\n",
      "\n",
      "    42\n",
      "    10\n",
      "\n",
      "\n",
      "x =\n",
      "\n",
      "    6.0000\n",
      "    4.0000\n"
     ]
    }
   ],
   "source": [
    "r1=6;r2=4;r3=3;vs1=42;vs2=-10;\n",
    "a=[r1+r3,-r3;-r3,r2+r3]\n",
    "b=[vs1;-vs2]\n",
    "x=a\\b"
   ]
  },
  {
   "cell_type": "code",
   "execution_count": null,
   "metadata": {
    "collapsed": false
   },
   "outputs": [],
   "source": []
  }
 ],
 "metadata": {
  "kernelspec": {
   "display_name": "Matlab",
   "language": "matlab",
   "name": "matlab"
  },
  "language_info": {
   "codemirror_mode": "octave",
   "file_extension": ".m",
   "help_links": [
    {
     "text": "MetaKernel Magics",
     "url": "https://github.com/calysto/metakernel/blob/master/metakernel/magics/README.md"
    }
   ],
   "mimetype": "text/x-octave",
   "name": "matlab",
   "version": "0.11.0"
  }
 },
 "nbformat": 4,
 "nbformat_minor": 0
}
