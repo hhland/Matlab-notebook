{
 "cells": [
  {
   "cell_type": "code",
   "execution_count": 1,
   "metadata": {
    "collapsed": false
   },
   "outputs": [
    {
     "name": "stderr",
     "output_type": "stream",
     "text": [
      "\u001b[0;31mError: The input character is not valid in MATLAB statements or expressions.\n",
      "\u001b[0m"
     ]
    }
   ],
   "source": [
    "addpath(\"script\");"
   ]
  },
  {
   "cell_type": "markdown",
   "metadata": {},
   "source": [
    "#First Order Differential Equations\n",
    "- Although it implements only a relatively small number of commands related to this topic, MATLAB’s treatment of\n",
    "differential equations is nevertheless very efficient. We shall see how we can use these commands to solve each type\n",
    "of differential equation algebraically. Numerical methods for the approximate solution of equations and systems of\n",
    "equations are also implemented.\n",
    "- The basic command used to solve differential equations is dsolve. This command finds symbolic solutions\n",
    "of ordinary differential equations and systems of ordinary differential equations. The equations are specified by\n",
    "symbolic expressions where the letter D is used to denote differentiation, or D2, D3, etc, to denote differentiation of\n",
    "order 2,3,…, etc. The letter preceded by D (or D2, etc) is the dependent variable (which is usually y), and any letter\n",
    "that is not preceded by D (or D2, etc) is a candidate for the independent variable. If the independent variable is not\n",
    "specified, it is taken to be x by default. If x is specified as the dependent variable, then the independent variable is\n",
    "t. That is, x is the independent variable by default, unless it is declared as the dependent variable, in which case the\n",
    "independent variable is understood to be t.\n",
    "- You can specify initial conditions using additional equations, which take the form y(a) = b or Dy(a) = b,…, etc.\n",
    "If the initial conditions are not specified, the solutions of the differential equations will contain constants of\n",
    "integration, C1, C2,…, etc. The most important MATLAB commands that solve differential equations are the following:"
   ]
  },
  {
   "cell_type": "code",
   "execution_count": null,
   "metadata": {
    "collapsed": false
   },
   "outputs": [],
   "source": [
    "pretty(dsolve(\"Dy=a*y\"))"
   ]
  },
  {
   "cell_type": "code",
   "execution_count": null,
   "metadata": {
    "collapsed": false
   },
   "outputs": [],
   "source": []
  }
 ],
 "metadata": {
  "kernelspec": {
   "display_name": "Matlab",
   "language": "matlab",
   "name": "matlab"
  },
  "language_info": {
   "codemirror_mode": "octave",
   "file_extension": ".m",
   "help_links": [
    {
     "text": "MetaKernel Magics",
     "url": "https://github.com/calysto/metakernel/blob/master/metakernel/magics/README.md"
    }
   ],
   "mimetype": "text/x-octave",
   "name": "matlab",
   "version": "0.11.0"
  }
 },
 "nbformat": 4,
 "nbformat_minor": 0
}
