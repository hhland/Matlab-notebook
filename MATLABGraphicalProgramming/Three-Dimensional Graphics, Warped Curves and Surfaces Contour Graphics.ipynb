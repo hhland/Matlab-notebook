{
 "cells": [
  {
   "cell_type": "markdown",
   "metadata": {},
   "source": [
    "* plot3(X, Y, Z) draws the set of points (X, Y, Z), where X, Y and Z are vectors. X, Y and Z can\n",
    "also be arrays of the same size, in which case a graph is made for each triplet of rows and on\n",
    "the same axis. For complex values of X, Y and Z, the imaginary parts are ignored.\n",
    "* plot3(X,Y,Z,S) draws the plot (X, Y, Z) with the settings defined in S. Usually S consists of\n",
    "two-symbols between single quotes, the first of which sets the color of the line of the graph,\n",
    "and the second sets the character to be used in the plotting. The possible values of colors\n",
    "and characters have been already described to explain the command plot.\n",
    "* plot3(X1,Y1,Z1,S1,X2,Y2,Z2,S2,X3,Y3,Z3,S3,...) combines, on the same axes, graphs\n",
    "defined for the quads (Xi, Yi, Zi, Si). It is a way of representing various functions on the\n",
    "same graph."
   ]
  },
  {
   "cell_type": "code",
   "execution_count": 1,
   "metadata": {
    "collapsed": false
   },
   "outputs": [
    {
     "data": {
      "image/png": "[encoded data removed]",
      "text/plain": [
       "<IPython.core.display.Image object>"
      ]
     },
     "metadata": {},
     "output_type": "display_data"
    }
   ],
   "source": [
    " x = 0:pi/50:10*pi;\n",
    " y = sin(x);\n",
    " z = cos(x);\n",
    " plot3(x, y, z)"
   ]
  },
  {
   "cell_type": "code",
   "execution_count": 2,
   "metadata": {
    "collapsed": false
   },
   "outputs": [
    {
     "data": {
      "image/png": "[encoded data removed]",
      "text/plain": [
       "<IPython.core.display.Image object>"
      ]
     },
     "metadata": {},
     "output_type": "display_data"
    }
   ],
   "source": [
    "\n",
    "x = cos(0:0.01:8*pi);\n",
    "y = sin(0:0.01:8*pi);\n",
    "z = 0:0.01:8*pi;\n",
    "fill3(x,y,z,'r')"
   ]
  },
  {
   "cell_type": "code",
   "execution_count": 3,
   "metadata": {
    "collapsed": false
   },
   "outputs": [
    {
     "data": {
      "image/png": "[encoded data removed]",
      "text/plain": [
       "<IPython.core.display.Image object>"
      ]
     },
     "metadata": {},
     "output_type": "display_data"
    }
   ],
   "source": [
    "\n",
    "t = -4*pi:0.01:4*pi;\n",
    "x = cos(t) .^ 2;\n",
    "y = sin(t) .* cos (t);\n",
    "z = sin(t);\n",
    "plot3(x, y, z)"
   ]
  },
  {
   "cell_type": "code",
   "execution_count": 4,
   "metadata": {
    "collapsed": false
   },
   "outputs": [
    {
     "data": {
      "image/png": "[encoded data removed]",
      "text/plain": [
       "<IPython.core.display.Image object>"
      ]
     },
     "metadata": {},
     "output_type": "display_data"
    }
   ],
   "source": [
    "\n",
    "[X, Y] = meshgrid(-7.5:.5:7.5);\n",
    "Z = sin(sqrt(X.^2+Y.^2))./sqrt(X.^2+Y.^2);\n",
    "subplot(2,2,1)\n",
    "surf(X, Y, Z)\n",
    "subplot(2,2,2)\n",
    "surfc(X, Y, Z)\n",
    "subplot(2,2,3)\n",
    "surfl(X, Y, Z)"
   ]
  },
  {
   "cell_type": "code",
   "execution_count": 5,
   "metadata": {
    "collapsed": false
   },
   "outputs": [
    {
     "name": "stderr",
     "output_type": "stream",
     "text": [
      "\u001b[0;31mUndefined function 'mashz' for input arguments of type 'double'.\n",
      "\u001b[0m"
     ]
    }
   ],
   "source": [
    "\n",
    "[X, Y] = meshgrid(-2:.1:2,-2:.1:2);\n",
    "Z = X .* exp(-X.^2 - Y.^2);\n",
    "subplot(2,2,1)\n",
    "mesh(X, Y, Z)\n",
    "subplot(2,2,2)\n",
    "meshc(X,Y,Z)\n",
    "subplot(2,2,3)\n",
    "mashz(X,Y,Z)"
   ]
  },
  {
   "cell_type": "code",
   "execution_count": 6,
   "metadata": {
    "collapsed": false
   },
   "outputs": [
    {
     "data": {
      "image/png": "[encoded data removed]",
      "text/plain": [
       "<IPython.core.display.Image object>"
      ]
     },
     "metadata": {},
     "output_type": "display_data"
    }
   ],
   "source": [
    "\n",
    "[X, Y] = meshgrid(-2:0.1:2);\n",
    "Z = sin(X) .* sin(Y);\n",
    "subplot(2,2,1)\n",
    "surfc(X, Y, Z)\n",
    "subplot(2,2,2)\n",
    "contour(Z,20)\n",
    "subplot(2,2,3)\n",
    "contour3(Z,50)\n",
    "subplot(2,2,4)\n",
    "pcolor(X,Y,Z)"
   ]
  },
  {
   "cell_type": "code",
   "execution_count": null,
   "metadata": {
    "collapsed": false
   },
   "outputs": [],
   "source": [
    "\n",
    "[X, Y] = meshgrid(-2:0.05:2);\n",
    "Z = X^2-Y^2\n",
    "surf(X,Y,Z),shading interp,brighten(0.75),colormap(gray(5))"
   ]
  },
  {
   "cell_type": "code",
   "execution_count": null,
   "metadata": {
    "collapsed": false
   },
   "outputs": [],
   "source": [
    "\n",
    "[X, Y] = meshgrid(-2:0.05:2);\n",
    "Z = X .^ 2 - Y .^ 2;\n",
    "subplot(2,2,1)\n",
    "surf(X,Y,Z)\n",
    "subplot(2,2,2)\n",
    "surf(X,Y,Z),view(-90,0)\n",
    "subplot(2,2,3)\n",
    "surf(X,Y,Z),view(60,30)\n",
    "subplot(2,2,4)\n",
    "surf (X, Y, Z), view (- 10, 30)"
   ]
  },
  {
   "cell_type": "code",
   "execution_count": null,
   "metadata": {
    "collapsed": false
   },
   "outputs": [],
   "source": [
    "\n",
    "r = [-2*pi:0.1:2*pi]';\n",
    "t = [-pi:0.1:pi];\n",
    "X = 4 * cos(r) * sec(t);\n",
    "Y = 2 * sin(r) * sec(t);\n",
    "Z = ones(size(r)) * tan(t);\n",
    "surf(X,Y,Z)\n",
    "shading interp"
   ]
  },
  {
   "cell_type": "code",
   "execution_count": null,
   "metadata": {
    "collapsed": false
   },
   "outputs": [],
   "source": []
  }
 ],
 "metadata": {
  "kernelspec": {
   "display_name": "Matlab",
   "language": "matlab",
   "name": "matlab"
  },
  "language_info": {
   "codemirror_mode": "octave",
   "file_extension": ".m",
   "help_links": [
    {
     "text": "MetaKernel Magics",
     "url": "https://github.com/calysto/metakernel/blob/master/metakernel/magics/README.md"
    }
   ],
   "mimetype": "text/x-octave",
   "name": "matlab",
   "version": "0.11.0"
  }
 },
 "nbformat": 4,
 "nbformat_minor": 0
}
